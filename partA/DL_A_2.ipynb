{
 "cells": [
  {
   "cell_type": "code",
   "execution_count": 35,
   "id": "931af36c-c8c6-4256-ad40-f213bda0c56f",
   "metadata": {},
   "outputs": [],
   "source": [
    "import cv2\n",
    "import os\n",
    "import numpy as np\n",
    "from tqdm import tqdm\n",
    "# Path to the folder containing images\n",
    "train = \"./inaturalist_12K/train\"\n",
    "test= \"./inaturalist_12K/val\"\n",
    "\n",
    "# Desired dimensions\n",
    "new_width = 256\n",
    "new_height = 256\n",
    "classes=['Amphibia','Animalia','Arachnida','Aves','Fungi','Insecta','Mammalia','Mollusca','Plantae','Reptilia']\n",
    "x_train=[]\n",
    "y_train=[]\n",
    "x_test=[]\n",
    "y_test=[]\n",
    "def makeData(mode):\n",
    "    for i in tqdm(range(10)):\n",
    "        # List all files in the folder\n",
    "        folder_path=\"\"\n",
    "        if(mode==\"train\"):\n",
    "            folder_path+=train+'/'+classes[i]\n",
    "        elif(mode==\"test\"):\n",
    "            folder_path+=test+'/'+classes[i]\n",
    "        files = os.listdir(folder_path)\n",
    "        \n",
    "        \n",
    "        # Filter only image files\n",
    "        image_files = [file for file in files if file.endswith(('jpg', 'jpeg', 'png'))]\n",
    "        \n",
    "        # Loop through each image file\n",
    "        for image_file in image_files:\n",
    "            # Construct the full path to the image file\n",
    "            image_path = os.path.join(folder_path, image_file)\n",
    "            \n",
    "            # Read the image using OpenCV\n",
    "            img = cv2.imread(image_path)\n",
    "            \n",
    "            # Resize the image\n",
    "            img_resized = cv2.resize(img, (new_width, new_height), interpolation=cv2.INTER_AREA)\n",
    "            img_gray = cv2.cvtColor(img_resized, cv2.COLOR_BGR2GRAY)\n",
    "            if(mode==\"train\"):\n",
    "                x_train.append(img_gray)\n",
    "                y_train.append(i)\n",
    "            elif(mode==\"test\"):\n",
    "                x_test.append(img_gray)\n",
    "                y_test.append(i)\n"
   ]
  },
  {
   "cell_type": "code",
   "execution_count": 41,
   "id": "bb363cfd-0dea-4aca-b7b9-2796bb5f6334",
   "metadata": {},
   "outputs": [
    {
     "name": "stderr",
     "output_type": "stream",
     "text": [
      "100%|██████████████████████████████████████████████████████████████████████████████████| 10/10 [03:07<00:00, 18.72s/it]\n"
     ]
    }
   ],
   "source": [
    "makeData(\"train\")"
   ]
  },
  {
   "cell_type": "code",
   "execution_count": 36,
   "id": "c4010d1a-0eba-4f72-888c-b7b26c8f2724",
   "metadata": {},
   "outputs": [
    {
     "name": "stderr",
     "output_type": "stream",
     "text": [
      "100%|██████████████████████████████████████████████████████████████████████████████████| 10/10 [00:20<00:00,  2.06s/it]\n"
     ]
    }
   ],
   "source": [
    "makeData(\"test\")"
   ]
  },
  {
   "cell_type": "code",
   "execution_count": 42,
   "id": "1796985e-6fa5-4dd0-b33b-b9413ebc7e58",
   "metadata": {},
   "outputs": [],
   "source": [
    "x_train=np.array(x_train)\n",
    "y_train=np.array(y_train).reshape(len(y_train),1)\n",
    "x_test=np.array(x_test)\n",
    "y_test=np.array(y_test).reshape(len(y_test),1)"
   ]
  },
  {
   "cell_type": "code",
   "execution_count": 45,
   "id": "24f61871-397e-471e-bfbe-d420f36a6f47",
   "metadata": {},
   "outputs": [
    {
     "name": "stdout",
     "output_type": "stream",
     "text": [
      "x_train : (9999, 256, 256)  y_train : (9999, 1) x_test : (2000, 256, 256)  y_test : (2000, 1)\n"
     ]
    }
   ],
   "source": [
    "print(f\"x_train : {x_train.shape}  y_train : {y_train.shape} x_test : {x_test.shape}  y_test : {y_test.shape}\")"
   ]
  },
  {
   "cell_type": "code",
   "execution_count": null,
   "id": "bb03a4e8-4911-485f-aa62-8b4eda02454d",
   "metadata": {},
   "outputs": [],
   "source": []
  }
 ],
 "metadata": {
  "kernelspec": {
   "display_name": "Python 3 (ipykernel)",
   "language": "python",
   "name": "python3"
  },
  "language_info": {
   "codemirror_mode": {
    "name": "ipython",
    "version": 3
   },
   "file_extension": ".py",
   "mimetype": "text/x-python",
   "name": "python",
   "nbconvert_exporter": "python",
   "pygments_lexer": "ipython3",
   "version": "3.11.4"
  }
 },
 "nbformat": 4,
 "nbformat_minor": 5
}
